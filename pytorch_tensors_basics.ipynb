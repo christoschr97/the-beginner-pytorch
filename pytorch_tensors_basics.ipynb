{
 "cells": [
  {
   "cell_type": "code",
   "execution_count": 1,
   "id": "fb4fa70d-f15b-4ee6-b746-5c4ef0346a2d",
   "metadata": {},
   "outputs": [],
   "source": [
    "import torch\n",
    "torch.__version__"
   ]
  },
  {
   "cell_type": "markdown",
   "id": "f28195b3-0ebb-428c-a583-6d6bf110884b",
   "metadata": {},
   "source": [
    "# 1. Introduction to tensors\n",
    "\n",
    "What is a tensor? A `tensor` based on the documentation of PyTorch is a multi-dimensional matrix containing elements of single data type.\n",
    "\n",
    "https://pytorch.org/docs/stable/tensors.html\n",
    "\n",
    "To initialize a tensor in PyTorch we usualy use `torch.empty()` or `torch.tensor()` methods.\n",
    "\n",
    "Let's start with a scalar. A scalar is a single number and in the Machine Learning world it is actually a zero dimension tensor. To put it more simply, it is a tensor that has a single number"
   ]
  },
  {
   "cell_type": "markdown",
   "id": "6a9df539-9b28-45ec-8b02-b594e94fbcb6",
   "metadata": {},
   "source": [
    "###  1.1 How to initialize tensors\n",
    "Initialize a scalar with pytorch:"
   ]
  },
  {
   "cell_type": "code",
   "execution_count": 9,
   "id": "03e40a4c-2af7-43b6-bbd3-6ae8185d69b4",
   "metadata": {},
   "outputs": [
    {
     "data": {
      "text/plain": [
       "tensor([-0.0001])"
      ]
     },
     "execution_count": 9,
     "metadata": {},
     "output_type": "execute_result"
    }
   ],
   "source": [
    "x = torch.empty(1) \n",
    "x"
   ]
  },
  {
   "cell_type": "markdown",
   "id": "174c9648-f80a-4457-aac8-a3a8316087b3",
   "metadata": {},
   "source": [
    "Initialize a tensor with 3 numbers in one dimension (Vector):"
   ]
  },
  {
   "cell_type": "code",
   "execution_count": 11,
   "id": "644c944b-476b-4809-b9af-611aa0d5b958",
   "metadata": {},
   "outputs": [
    {
     "data": {
      "text/plain": [
       "tensor([-1.2719e-04,  4.5640e-41,  6.7474e-35])"
      ]
     },
     "execution_count": 11,
     "metadata": {},
     "output_type": "execute_result"
    }
   ],
   "source": [
    "x = torch.empty(3) \n",
    "x"
   ]
  },
  {
   "cell_type": "markdown",
   "id": "39cd1351-5201-47d2-be3f-7cffd09b513e",
   "metadata": {},
   "source": [
    "Initialize empty tensor with 2 dimensions:\n",
    "- The first dimension (dimension 0) will have 2 rows.\n",
    "- The second dimension (dimension 1) will have 3 numbers (or columns)."
   ]
  },
  {
   "cell_type": "code",
   "execution_count": 12,
   "id": "a405e506-78df-485a-ab9e-ffe25c4996aa",
   "metadata": {},
   "outputs": [
    {
     "data": {
      "text/plain": [
       "tensor([[8.5927e-35, 0.0000e+00, 0.0000e+00],\n",
       "        [1.1755e-38, 3.7651e-38, 0.0000e+00]])"
      ]
     },
     "execution_count": 12,
     "metadata": {},
     "output_type": "execute_result"
    }
   ],
   "source": [
    "x = torch.empty(2,3) \n",
    "x"
   ]
  },
  {
   "cell_type": "markdown",
   "id": "ec784eca-27b9-4b62-ae96-0b0e5a55177f",
   "metadata": {},
   "source": [
    "Initialize a tensor with three dimensions or more:"
   ]
  },
  {
   "cell_type": "code",
   "execution_count": 14,
   "id": "4e38dda6-0188-4577-974b-38021a41b08e",
   "metadata": {
    "scrolled": true
   },
   "outputs": [
    {
     "data": {
      "text/plain": [
       "(tensor([[[-1.2719e-04,  4.5640e-41,  8.5364e-35],\n",
       "          [ 0.0000e+00,  6.9269e-35,  0.0000e+00],\n",
       "          [ 8.5726e-35,  0.0000e+00,  0.0000e+00]],\n",
       " \n",
       "         [[ 0.0000e+00,  8.5748e-35,  0.0000e+00],\n",
       "          [ 9.6461e-36,  0.0000e+00, -1.9511e+04],\n",
       "          [ 4.5639e-41,  1.4013e-45,  0.0000e+00]]]),\n",
       " tensor([[[[ 1.4013e-45,  0.0000e+00,  8.5895e-35,  0.0000e+00,  8.5898e-35],\n",
       "           [ 0.0000e+00,  1.4013e-45,  0.0000e+00,  8.5895e-35,  0.0000e+00],\n",
       "           [ 8.5895e-35,  0.0000e+00,  3.3631e-44,  0.0000e+00,  1.3784e-38],\n",
       "           [ 0.0000e+00,  2.8026e-45,  1.5414e-44,  0.0000e+00,  0.0000e+00]],\n",
       " \n",
       "          [[ 2.8026e-45,  0.0000e+00,  2.8026e-45,  1.4013e-45,  3.3631e-44],\n",
       "           [        nan, -2.5375e-06,  4.5640e-41,  1.4013e-45,  0.0000e+00],\n",
       "           [ 1.4013e-45,  1.4013e-45,  2.8026e-45,  5.6052e-45,  2.8026e-45],\n",
       "           [ 1.2612e-44,  2.9427e-44,  0.0000e+00,  8.5895e-35,  0.0000e+00]],\n",
       " \n",
       "          [[ 1.2749e-38,  0.0000e+00,  1.4013e-45,  1.4013e-45,  2.8026e-45],\n",
       "           [ 5.6052e-45,  2.8026e-45,  2.1019e-44,  5.6052e-45,  0.0000e+00],\n",
       "           [ 8.5896e-35,  0.0000e+00,  8.5896e-35,  0.0000e+00,  8.5896e-35],\n",
       "           [ 0.0000e+00,  8.5897e-35,  0.0000e+00,  8.5897e-35,  0.0000e+00]]],\n",
       " \n",
       " \n",
       "         [[[ 2.8026e-44,  0.0000e+00,  1.3693e-38,  0.0000e+00,  0.0000e+00],\n",
       "           [ 0.0000e+00,  1.4013e-45,  2.2421e-44,  2.8026e-45,  2.2421e-44],\n",
       "           [ 2.8026e-45,  2.3822e-44,  2.8026e-44,  0.0000e+00,  1.3693e-38],\n",
       "           [ 0.0000e+00,  0.0000e+00,  0.0000e+00,  1.4013e-45,  2.5223e-44]],\n",
       " \n",
       "          [[ 2.8026e-45,  2.5223e-44,  2.8026e-45,  2.6625e-44,  2.8026e-44],\n",
       "           [ 0.0000e+00,  1.3693e-38,  0.0000e+00,  0.0000e+00,  0.0000e+00],\n",
       "           [ 1.4013e-45,  2.9427e-44,  2.8026e-45,  2.8026e-44,  2.8026e-45],\n",
       "           [ 2.9427e-44,  2.8026e-44,  0.0000e+00,  1.3693e-38,  0.0000e+00]],\n",
       " \n",
       "          [[ 0.0000e+00,  0.0000e+00,  8.5896e-35,  0.0000e+00,  2.8026e-45],\n",
       "           [ 3.0829e-44,  2.8026e-45,  3.2230e-44,  0.0000e+00,  0.0000e+00],\n",
       "           [ 8.5897e-35,  0.0000e+00,  0.0000e+00,  0.0000e+00,  2.3822e-44],\n",
       "           [ 0.0000e+00,  8.5896e-35,  0.0000e+00,  8.5896e-35,  0.0000e+00]]]]))"
      ]
     },
     "execution_count": 14,
     "metadata": {},
     "output_type": "execute_result"
    }
   ],
   "source": [
    "x = torch.empty(2,3, 3) \n",
    "y = torch.empty(2,3,4,5)\n",
    "x, y"
   ]
  },
  {
   "cell_type": "markdown",
   "id": "6fc5bd20-ab4c-4cfa-83f4-6a406e7c02e3",
   "metadata": {},
   "source": [
    "In PyTorch and Machine Learning is particularly useful sometimes to initialize a tensor with zeros. In pytorch we do that using `torch.zeros()` in the same way we were using `empty()`:"
   ]
  },
  {
   "cell_type": "code",
   "execution_count": 17,
   "id": "6c8bb80c-a55b-4889-9b1b-f5364946ebe5",
   "metadata": {},
   "outputs": [
    {
     "data": {
      "text/plain": [
       "tensor([[0., 0., 0.],\n",
       "        [0., 0., 0.]])"
      ]
     },
     "execution_count": 17,
     "metadata": {},
     "output_type": "execute_result"
    }
   ],
   "source": [
    "x = torch.zeros(2,3)\n",
    "x"
   ]
  },
  {
   "cell_type": "markdown",
   "id": "ee54b3a0-2472-477b-a4aa-f354df93d7d1",
   "metadata": {},
   "source": [
    "Also in Pytorch we can initialize a tensor with random values using `torch.rand()`:"
   ]
  },
  {
   "cell_type": "code",
   "execution_count": 19,
   "id": "7e8f3e9c-fdd6-4567-9314-4133d191b715",
   "metadata": {},
   "outputs": [
    {
     "data": {
      "text/plain": [
       "tensor([[0.5446, 0.2886],\n",
       "        [0.9925, 0.2873],\n",
       "        [0.1601, 0.4598]])"
      ]
     },
     "execution_count": 19,
     "metadata": {},
     "output_type": "execute_result"
    }
   ],
   "source": [
    "x = torch.rand(3,2)\n",
    "x"
   ]
  },
  {
   "cell_type": "markdown",
   "id": "005fc51f-544d-4bab-afde-59eba6168231",
   "metadata": {},
   "source": [
    "We can also create a tensor from numpy array or a python array (list)"
   ]
  },
  {
   "cell_type": "markdown",
   "id": "e0abd9fe-5634-4815-8e15-323e6e519d69",
   "metadata": {},
   "source": [
    "Initialize from numpy:"
   ]
  },
  {
   "cell_type": "code",
   "execution_count": 32,
   "id": "baa082f1-c255-4c98-ac11-ced184f22e07",
   "metadata": {},
   "outputs": [
    {
     "name": "stdout",
     "output_type": "stream",
     "text": [
      "NumPy Array:\n",
      "[[1 2 3]\n",
      " [4 5 6]]\n"
     ]
    }
   ],
   "source": [
    "import numpy as np\n",
    "\n",
    "numpy_array = np.array([[1, 2, 3], [4, 5, 6]])\n",
    "print(\"NumPy Array:\")\n",
    "print(numpy_array)"
   ]
  },
  {
   "cell_type": "code",
   "execution_count": 35,
   "id": "1897f4af-beef-4e80-9fa1-dfafd3844b37",
   "metadata": {},
   "outputs": [
    {
     "name": "stdout",
     "output_type": "stream",
     "text": [
      "PyTorch Tensor from NumPy Array:\n",
      "tensor([[1, 2, 3],\n",
      "        [4, 5, 6]])\n"
     ]
    }
   ],
   "source": [
    "tensor_from_numpy = torch.from_numpy(numpy_array)\n",
    "print(\"PyTorch Tensor from NumPy Array:\")\n",
    "print(tensor_from_numpy)"
   ]
  },
  {
   "cell_type": "markdown",
   "id": "d24e4e6b-f91a-474b-a97a-b36732b1e4d2",
   "metadata": {},
   "source": [
    "Initialize from python list:"
   ]
  },
  {
   "cell_type": "code",
   "execution_count": 36,
   "id": "7dcc8a60-3aea-4381-9f05-97154d0d61fb",
   "metadata": {},
   "outputs": [
    {
     "name": "stdout",
     "output_type": "stream",
     "text": [
      "Python List:\n",
      "[[1, 2, 3], [4, 5, 6]]\n"
     ]
    }
   ],
   "source": [
    "python_list = [[1, 2, 3], [4, 5, 6]]\n",
    "print(\"Python List:\")\n",
    "print(python_list)"
   ]
  },
  {
   "cell_type": "code",
   "execution_count": 37,
   "id": "10344ba9-5e71-4fff-874c-04b129dc43a5",
   "metadata": {},
   "outputs": [
    {
     "name": "stdout",
     "output_type": "stream",
     "text": [
      "PyTorch Tensor from Python List:\n",
      "tensor([[1, 2, 3],\n",
      "        [4, 5, 6]])\n"
     ]
    }
   ],
   "source": [
    "tensor_from_list = torch.tensor(python_list)\n",
    "print(\"PyTorch Tensor from Python List:\")\n",
    "print(tensor_from_list)"
   ]
  },
  {
   "cell_type": "markdown",
   "id": "cd69d52c-baf7-4e23-af0b-2066461e7864",
   "metadata": {},
   "source": [
    "### 1.2 Tensors and their attributes (methods)\n",
    "\n",
    "**Size, shape and ndim of a Tensor**:\n",
    "\n",
    "The size() method and the shape method returns the same thing with the difference that the size can get a dimension as a parameter and give you the size of a tensor at a specific dimension.\n",
    "\n",
    "The ndim is the number of Tensor Dimensions"
   ]
  },
  {
   "cell_type": "code",
   "execution_count": 20,
   "id": "954a006a-69bc-4e65-af1f-d3d0976f2dce",
   "metadata": {},
   "outputs": [
    {
     "data": {
      "text/plain": [
       "torch.Size([3, 2])"
      ]
     },
     "execution_count": 20,
     "metadata": {},
     "output_type": "execute_result"
    }
   ],
   "source": [
    "x.shape"
   ]
  },
  {
   "cell_type": "code",
   "execution_count": 21,
   "id": "704778a4-cbb5-45fb-8e3e-52402a5e7506",
   "metadata": {},
   "outputs": [
    {
     "data": {
      "text/plain": [
       "torch.Size([3, 2])"
      ]
     },
     "execution_count": 21,
     "metadata": {},
     "output_type": "execute_result"
    }
   ],
   "source": [
    "x.size()"
   ]
  },
  {
   "cell_type": "markdown",
   "id": "8bcc802c-9aff-4b5e-8bc2-6d594e967b8f",
   "metadata": {},
   "source": [
    "Access specific dimension's size"
   ]
  },
  {
   "cell_type": "code",
   "execution_count": 26,
   "id": "68dd27c6-bd20-452e-9d13-2a120465e0c3",
   "metadata": {},
   "outputs": [
    {
     "data": {
      "text/plain": [
       "3"
      ]
     },
     "execution_count": 26,
     "metadata": {},
     "output_type": "execute_result"
    }
   ],
   "source": [
    "x.size(0)"
   ]
  },
  {
   "cell_type": "code",
   "execution_count": 27,
   "id": "278f18c2-457c-41dc-aa2c-b2b2b7b47f52",
   "metadata": {},
   "outputs": [
    {
     "data": {
      "text/plain": [
       "2"
      ]
     },
     "execution_count": 27,
     "metadata": {},
     "output_type": "execute_result"
    }
   ],
   "source": [
    "x.size(1)"
   ]
  },
  {
   "cell_type": "markdown",
   "id": "7925d22f-b5c9-4a0d-8c44-7c89155f342d",
   "metadata": {},
   "source": [
    "Number of dimensions: You can get the number of dimensions for a tensor by running ndim"
   ]
  },
  {
   "cell_type": "code",
   "execution_count": 22,
   "id": "4e9783dd-91eb-4b27-bd09-0fbffd866972",
   "metadata": {},
   "outputs": [
    {
     "data": {
      "text/plain": [
       "2"
      ]
     },
     "execution_count": 22,
     "metadata": {},
     "output_type": "execute_result"
    }
   ],
   "source": [
    "x.ndim"
   ]
  },
  {
   "cell_type": "markdown",
   "id": "9e45f584-2555-471a-91eb-1e8e7191ee91",
   "metadata": {},
   "source": [
    "Tensors can have only 1 data type for all the elements inside a tensor. You can get the data type by running `tensor_x.dtype`"
   ]
  },
  {
   "cell_type": "code",
   "execution_count": 29,
   "id": "2e5c1371-de4e-4bba-8e91-f9b2f6567942",
   "metadata": {},
   "outputs": [
    {
     "name": "stdout",
     "output_type": "stream",
     "text": [
      "torch.float32\n"
     ]
    }
   ],
   "source": [
    "print(x.dtype)"
   ]
  },
  {
   "cell_type": "markdown",
   "id": "a798d8bf-3e53-4995-9654-af0974837577",
   "metadata": {},
   "source": [
    "**How to specify types in PyTorch**\n",
    "\n",
    "You can set the dtype of a PyTorch tensor at creation or initialization, **e.g.,** `torch.tensor(..., dtype=torch.float32)`."
   ]
  },
  {
   "cell_type": "markdown",
   "id": "3c30a6ae-2708-4e38-94bf-ec93766665a2",
   "metadata": {},
   "source": [
    "Lets initialize a tensor of type torch.float16"
   ]
  },
  {
   "cell_type": "code",
   "execution_count": 41,
   "id": "519627df-6f27-4f2a-99a6-96b221a7aa20",
   "metadata": {},
   "outputs": [
    {
     "name": "stdout",
     "output_type": "stream",
     "text": [
      "tensor: tensor([[2., 3.],\n",
      "        [3., 4.]], dtype=torch.float16)\n",
      "data type: torch.float16\n"
     ]
    }
   ],
   "source": [
    "numpy_array = np.array([[2,3],[3,4]])\n",
    "x = torch.tensor(numpy_array, dtype=torch.float16)\n",
    "print(f'tensor: {x}')\n",
    "print(f'data type: {x.dtype}')"
   ]
  },
  {
   "cell_type": "markdown",
   "id": "ee7982dc-f966-469e-9560-92c72962d653",
   "metadata": {},
   "source": [
    "**Gradients and Pytorch Tensors**\n",
    "\n",
    "In PyTorch in order to calculate the gradients for a tensor when performing backpropagation, the tensor must have the `require_grad` set to `True`"
   ]
  },
  {
   "cell_type": "markdown",
   "id": "b155c382-a3f1-46ea-b0fb-19db57a28a2d",
   "metadata": {},
   "source": [
    "In the example bellow we show that PyTorch gives you an error if you try to instantiate a torch tensor without a torch.dtype or if the tensor is not of type complex and float you will get an error"
   ]
  },
  {
   "cell_type": "code",
   "execution_count": 47,
   "id": "235a2b1a-53c8-4618-bfde-0463ff76df1b",
   "metadata": {},
   "outputs": [
    {
     "ename": "RuntimeError",
     "evalue": "Only Tensors of floating point and complex dtype can require gradients",
     "output_type": "error",
     "traceback": [
      "\u001b[0;31m---------------------------------------------------------------------------\u001b[0m",
      "\u001b[0;31mRuntimeError\u001b[0m                              Traceback (most recent call last)",
      "Cell \u001b[0;32mIn[47], line 1\u001b[0m\n\u001b[0;32m----> 1\u001b[0m x \u001b[38;5;241m=\u001b[39m \u001b[43mtorch\u001b[49m\u001b[38;5;241;43m.\u001b[39;49m\u001b[43mtensor\u001b[49m\u001b[43m(\u001b[49m\u001b[43mnumpy_array\u001b[49m\u001b[43m,\u001b[49m\u001b[43m \u001b[49m\u001b[43mrequires_grad\u001b[49m\u001b[38;5;241;43m=\u001b[39;49m\u001b[38;5;28;43;01mTrue\u001b[39;49;00m\u001b[43m)\u001b[49m\n\u001b[1;32m      2\u001b[0m \u001b[38;5;28mprint\u001b[39m(x)\n",
      "\u001b[0;31mRuntimeError\u001b[0m: Only Tensors of floating point and complex dtype can require gradients"
     ]
    }
   ],
   "source": [
    "x = torch.tensor(numpy_array, requires_grad=True)\n",
    "print(x)"
   ]
  },
  {
   "cell_type": "code",
   "execution_count": 49,
   "id": "eff5a2e8-6d32-4ef6-955e-8c42863a0197",
   "metadata": {},
   "outputs": [
    {
     "ename": "RuntimeError",
     "evalue": "Only Tensors of floating point and complex dtype can require gradients",
     "output_type": "error",
     "traceback": [
      "\u001b[0;31m---------------------------------------------------------------------------\u001b[0m",
      "\u001b[0;31mRuntimeError\u001b[0m                              Traceback (most recent call last)",
      "Cell \u001b[0;32mIn[49], line 1\u001b[0m\n\u001b[0;32m----> 1\u001b[0m x \u001b[38;5;241m=\u001b[39m \u001b[43mtorch\u001b[49m\u001b[38;5;241;43m.\u001b[39;49m\u001b[43mtensor\u001b[49m\u001b[43m(\u001b[49m\u001b[43mnumpy_array\u001b[49m\u001b[43m,\u001b[49m\u001b[43m \u001b[49m\u001b[43mdtype\u001b[49m\u001b[38;5;241;43m=\u001b[39;49m\u001b[43mtorch\u001b[49m\u001b[38;5;241;43m.\u001b[39;49m\u001b[43mint8\u001b[49m\u001b[43m,\u001b[49m\u001b[43m \u001b[49m\u001b[43mrequires_grad\u001b[49m\u001b[38;5;241;43m=\u001b[39;49m\u001b[38;5;28;43;01mTrue\u001b[39;49;00m\u001b[43m)\u001b[49m\n\u001b[1;32m      2\u001b[0m \u001b[38;5;28mprint\u001b[39m(x)\n",
      "\u001b[0;31mRuntimeError\u001b[0m: Only Tensors of floating point and complex dtype can require gradients"
     ]
    }
   ],
   "source": [
    "x = torch.tensor(numpy_array, dtype=torch.int8, requires_grad=True)\n",
    "print(x)"
   ]
  },
  {
   "cell_type": "code",
   "execution_count": 51,
   "id": "1d738bdb-3049-4e82-8128-a0edb5097431",
   "metadata": {},
   "outputs": [
    {
     "name": "stdout",
     "output_type": "stream",
     "text": [
      "tensor([[2., 3.],\n",
      "        [3., 4.]], dtype=torch.float16, requires_grad=True)\n",
      "tensor([[2.+0.j, 3.+0.j],\n",
      "        [3.+0.j, 4.+0.j]], requires_grad=True)\n"
     ]
    }
   ],
   "source": [
    "x = torch.tensor(numpy_array, dtype=torch.float16, requires_grad=True)\n",
    "y = torch.tensor(numpy_array, dtype=torch.complex64, requires_grad=True)\n",
    "print(x)\n",
    "print(y)"
   ]
  },
  {
   "cell_type": "markdown",
   "id": "0e4a2f4b-581a-48e1-97ba-efd9a025d053",
   "metadata": {},
   "source": [
    "### 1.3 Basic Operations on tensors with PyTorch\n",
    "\n",
    "In PyTorch we can perform various operations with Tensors:\n",
    "- Element-wise operations\n",
    "- Slicing tensors\n",
    "- Reshape tensors"
   ]
  },
  {
   "cell_type": "markdown",
   "id": "609d508e-c77d-4f2e-be15-60872f581e55",
   "metadata": {},
   "source": [
    "#### 1.3.1 Element-wise operations"
   ]
  },
  {
   "cell_type": "code",
   "execution_count": 53,
   "id": "0cd5bf30-14b3-48ca-b05a-59aaf9e9d0cc",
   "metadata": {},
   "outputs": [],
   "source": [
    "tensor1 = torch.tensor([[1, 2], [3, 4]])\n",
    "tensor2 = torch.tensor([[5, 6], [7, 8]])"
   ]
  },
  {
   "cell_type": "markdown",
   "id": "cec380f0-6d97-428a-932a-ed76e0502ef9",
   "metadata": {},
   "source": [
    "Element-wise addition of two tensors"
   ]
  },
  {
   "cell_type": "code",
   "execution_count": 55,
   "id": "e263607b-c031-4884-913b-65ebae6d67ae",
   "metadata": {},
   "outputs": [
    {
     "name": "stdout",
     "output_type": "stream",
     "text": [
      "Addition:\n",
      "tensor([[ 6,  8],\n",
      "        [10, 12]])\n"
     ]
    }
   ],
   "source": [
    "sum_tensor = tensor1 + tensor2\n",
    "print(\"Addition:\")\n",
    "print(sum_tensor)"
   ]
  },
  {
   "cell_type": "code",
   "execution_count": 58,
   "id": "56bdbca3-2f16-4fa1-acb7-3b1d1f285691",
   "metadata": {},
   "outputs": [
    {
     "data": {
      "text/plain": [
       "tensor([[ 6,  8],\n",
       "        [10, 12]])"
      ]
     },
     "execution_count": 58,
     "metadata": {},
     "output_type": "execute_result"
    }
   ],
   "source": [
    "tensor1.add_(tensor2)"
   ]
  },
  {
   "cell_type": "code",
   "execution_count": 59,
   "id": "707feacc-10bd-45f4-afee-9b7f7b518206",
   "metadata": {},
   "outputs": [
    {
     "data": {
      "text/plain": [
       "tensor([[11, 14],\n",
       "        [17, 20]])"
      ]
     },
     "execution_count": 59,
     "metadata": {},
     "output_type": "execute_result"
    }
   ],
   "source": [
    "torch.add(tensor1, tensor2)"
   ]
  },
  {
   "cell_type": "markdown",
   "id": "f951078a-82d6-4134-83c9-662ee46d1c74",
   "metadata": {},
   "source": [
    "Subtraction:\n",
    "- tensor1 - tensor2\n",
    "- torch.sub(tensor1, tensor2)"
   ]
  },
  {
   "cell_type": "code",
   "execution_count": 61,
   "id": "021a3d69-69d8-40a7-99e5-4161cbfda81f",
   "metadata": {},
   "outputs": [
    {
     "data": {
      "text/plain": [
       "tensor([[1, 2],\n",
       "        [3, 4]])"
      ]
     },
     "execution_count": 61,
     "metadata": {},
     "output_type": "execute_result"
    }
   ],
   "source": [
    "z = tensor1 - tensor2\n",
    "z"
   ]
  },
  {
   "cell_type": "code",
   "execution_count": 62,
   "id": "ebcf7d3b-9007-44cf-963b-f96ca3a96272",
   "metadata": {},
   "outputs": [
    {
     "data": {
      "text/plain": [
       "tensor([[1, 2],\n",
       "        [3, 4]])"
      ]
     },
     "execution_count": 62,
     "metadata": {},
     "output_type": "execute_result"
    }
   ],
   "source": [
    "z = torch.sub(tensor1, tensor2)\n",
    "z"
   ]
  },
  {
   "cell_type": "markdown",
   "id": "25448ca6-8f54-4963-9cb9-7fe0c991cd2b",
   "metadata": {},
   "source": [
    "Element-wise multiplication of two tensors"
   ]
  },
  {
   "cell_type": "code",
   "execution_count": 56,
   "id": "b43e23a5-a788-4001-b2e0-9801fe7a68f1",
   "metadata": {},
   "outputs": [
    {
     "name": "stdout",
     "output_type": "stream",
     "text": [
      "\n",
      "Multiplication (element-wise):\n",
      "tensor([[ 5, 12],\n",
      "        [21, 32]])\n"
     ]
    }
   ],
   "source": [
    "tensor_mul = tensor1 * tensor2\n",
    "print(\"\\nMultiplication (element-wise):\")\n",
    "print(tensor_mul)"
   ]
  },
  {
   "cell_type": "markdown",
   "id": "df253769-9e1c-4dec-99aa-55fc3d4ba341",
   "metadata": {},
   "source": [
    "Element-wise square root of **1 tensor**"
   ]
  },
  {
   "cell_type": "code",
   "execution_count": 57,
   "id": "7b8aeb71-185e-42ef-a890-777944798a88",
   "metadata": {},
   "outputs": [
    {
     "name": "stdout",
     "output_type": "stream",
     "text": [
      "\n",
      "Element-wise Square Root:\n",
      "tensor([[1.0000, 1.4142],\n",
      "        [1.7321, 2.0000]])\n"
     ]
    }
   ],
   "source": [
    "tensor_sqrt = torch.sqrt(tensor1.float())\n",
    "print(\"\\nElement-wise Square Root:\")\n",
    "print(tensor_sqrt)"
   ]
  },
  {
   "cell_type": "markdown",
   "id": "d4ea53d9-8ff6-4a6f-a90c-e419267cdac1",
   "metadata": {},
   "source": [
    "#### 1.3.2 Slicing Tensors"
   ]
  },
  {
   "cell_type": "code",
   "execution_count": 65,
   "id": "e436f415-da32-4e65-8174-ceb397c613f4",
   "metadata": {},
   "outputs": [
    {
     "data": {
      "text/plain": [
       "tensor([[0.0769, 0.3255, 0.0078, 0.1532, 0.6928],\n",
       "        [0.6082, 0.6499, 0.0732, 0.9209, 0.5639],\n",
       "        [0.7117, 0.9250, 0.3895, 0.0602, 0.8556],\n",
       "        [0.8881, 0.8602, 0.6993, 0.6661, 0.3131],\n",
       "        [0.9130, 0.7370, 0.0197, 0.5863, 0.8647]])"
      ]
     },
     "execution_count": 65,
     "metadata": {},
     "output_type": "execute_result"
    }
   ],
   "source": [
    "X = torch.rand(5,5)\n",
    "X"
   ]
  },
  {
   "cell_type": "code",
   "execution_count": 69,
   "id": "f39e6678-5be6-4cdf-979e-a37975c6675d",
   "metadata": {},
   "outputs": [
    {
     "data": {
      "text/plain": [
       "tensor([0.0769, 0.6082, 0.7117, 0.8881, 0.9130])"
      ]
     },
     "execution_count": 69,
     "metadata": {},
     "output_type": "execute_result"
    }
   ],
   "source": [
    "# print all rows and column 0\n",
    "X[:, 0]"
   ]
  },
  {
   "cell_type": "code",
   "execution_count": 70,
   "id": "8f51dbd8-30ce-4990-9c6f-f4a316a913a5",
   "metadata": {},
   "outputs": [
    {
     "data": {
      "text/plain": [
       "tensor([0.6082, 0.6499, 0.0732, 0.9209, 0.5639])"
      ]
     },
     "execution_count": 70,
     "metadata": {},
     "output_type": "execute_result"
    }
   ],
   "source": [
    "# print all columns and row 1\n",
    "X[1, :]"
   ]
  },
  {
   "cell_type": "code",
   "execution_count": 73,
   "id": "75a4449c-0581-4557-9c5c-b40437edf940",
   "metadata": {},
   "outputs": [
    {
     "data": {
      "text/plain": [
       "(tensor(0.6499), 0.6499195694923401)"
      ]
     },
     "execution_count": 73,
     "metadata": {},
     "output_type": "execute_result"
    }
   ],
   "source": [
    "# print a scalar out of our tensor with 2 dimensions\n",
    "# call item() on the tensor to get the scalar only\n",
    "X[1,1], X[1,1].item()"
   ]
  },
  {
   "cell_type": "markdown",
   "id": "16095c36-5fa2-439a-a8a1-75cc6f5def23",
   "metadata": {},
   "source": [
    "#### 1.3.3 Reshape Tensors\n",
    "\n",
    "Lets reshape the tensor with x.view"
   ]
  },
  {
   "cell_type": "code",
   "execution_count": 87,
   "id": "1480c8fd-9769-4893-8622-f97f6d574897",
   "metadata": {},
   "outputs": [
    {
     "name": "stdout",
     "output_type": "stream",
     "text": [
      "Original Tensor:\n",
      "tensor([1, 2, 3, 4, 5, 6])\n",
      "Reshaped Tensor:\n",
      "tensor([[1, 2, 3],\n",
      "        [4, 5, 6]])\n"
     ]
    }
   ],
   "source": [
    "import torch\n",
    "\n",
    "# Create a 1D tensor with 6 elements\n",
    "tensor = torch.tensor([1, 2, 3, 4, 5, 6])\n",
    "\n",
    "# Reshape to a 2D tensor with shape (2, 3)\n",
    "reshaped_tensor = tensor.view(2, 3)\n",
    "print(\"Original Tensor:\")\n",
    "print(tensor)\n",
    "print(\"Reshaped Tensor:\")\n",
    "print(reshaped_tensor)"
   ]
  },
  {
   "cell_type": "code",
   "execution_count": 88,
   "id": "3135164d-7663-4cb2-9bfe-a05bfde1bef9",
   "metadata": {},
   "outputs": [
    {
     "name": "stdout",
     "output_type": "stream",
     "text": [
      "Original Tensor:\n",
      "tensor([[1, 2, 3],\n",
      "        [4, 5, 6]])\n",
      "Reshaped Tensor:\n",
      "tensor([[[1, 2, 3],\n",
      "         [4, 5, 6]]])\n"
     ]
    }
   ],
   "source": [
    "# Create a 2D tensor with shape (2, 3)\n",
    "tensor = torch.tensor([[1, 2, 3], [4, 5, 6]])\n",
    "\n",
    "# Reshape to a 3D tensor with shape (1, 2, 3)\n",
    "reshaped_tensor = tensor.view(1, 2, 3)\n",
    "print(\"Original Tensor:\")\n",
    "print(tensor)\n",
    "print(\"Reshaped Tensor:\")\n",
    "print(reshaped_tensor)"
   ]
  },
  {
   "cell_type": "markdown",
   "id": "ac0928dd-28e0-455d-a7c4-7c84370440fa",
   "metadata": {},
   "source": [
    "### 1.4 Numpy and Tensors\n",
    "\n",
    "We can convert the tensor to numpy by calling the `numpy()` method on the tensor object."
   ]
  },
  {
   "cell_type": "code",
   "execution_count": 99,
   "id": "85c50a31-77fc-4620-a7ab-4b5a5b0ac365",
   "metadata": {},
   "outputs": [
    {
     "data": {
      "text/plain": [
       "(numpy.ndarray,\n",
       " array([0.88024426, 0.45601016, 0.7569838 , 0.7983077 , 0.01635176],\n",
       "       dtype=float32))"
      ]
     },
     "execution_count": 99,
     "metadata": {},
     "output_type": "execute_result"
    }
   ],
   "source": [
    "# torch to numpy\n",
    "tensor = torch.rand(5)\n",
    "np_array = tensor.numpy()\n",
    "type(np_array), np_array"
   ]
  },
  {
   "cell_type": "markdown",
   "id": "2d737e55-fbaa-4416-a2bd-a9cb9fe4bc47",
   "metadata": {},
   "source": [
    "One thing we need to be always careful is that if the tensor is on the CPU (and not on GPU) then both objects will share the same memory location"
   ]
  },
  {
   "cell_type": "code",
   "execution_count": 100,
   "id": "6ab9cc1f-ecd4-4938-bd53-64c0207f98ab",
   "metadata": {},
   "outputs": [
    {
     "data": {
      "text/plain": [
       "(tensor([1.8802, 1.4560, 1.7570, 1.7983, 1.0164]),\n",
       " array([1.8802443, 1.4560101, 1.7569838, 1.7983077, 1.0163517],\n",
       "       dtype=float32))"
      ]
     },
     "execution_count": 100,
     "metadata": {},
     "output_type": "execute_result"
    }
   ],
   "source": [
    "tensor.add_(1), np_array"
   ]
  },
  {
   "cell_type": "markdown",
   "id": "7692f162-6795-454e-9b1e-affae94ab0ae",
   "metadata": {},
   "source": [
    "Again we can do this vice versa and call `torch.from_numpy(np_array)` or `torch.tensor(np_array)`. \n",
    "\n",
    "The big difference is that `torch.tensor` will create an actual copy of the numpy array, however the `torch.from_numpy` will share the same memory"
   ]
  },
  {
   "cell_type": "code",
   "execution_count": 102,
   "id": "1517836c-3308-447c-988f-71e6c9e0c11e",
   "metadata": {},
   "outputs": [
    {
     "name": "stdout",
     "output_type": "stream",
     "text": [
      "[1. 1.]\n",
      "tensor([1., 1.], dtype=torch.float64)\n",
      "tensor([1., 1.], dtype=torch.float64)\n",
      "[6. 6.]\n",
      "tensor([6., 6.], dtype=torch.float64)\n",
      "tensor([1., 1.], dtype=torch.float64)\n"
     ]
    }
   ],
   "source": [
    "np_array = np.ones(2)\n",
    "tensor_from_numpy = torch.from_numpy(np_array)\n",
    "tensor = torch.tensor(np_array)\n",
    "\n",
    "print(np_array)\n",
    "print(tensor_from_numpy)\n",
    "print(tensor)\n",
    "\n",
    "np_array += 5\n",
    "print(np_array)\n",
    "print(tensor_from_numpy)\n",
    "print(tensor)"
   ]
  },
  {
   "cell_type": "markdown",
   "id": "46c72111-9112-4ca7-91f4-437f69973fe6",
   "metadata": {},
   "source": [
    "### 1.5 Tensors and Device (GPU, CPU)"
   ]
  },
  {
   "cell_type": "markdown",
   "id": "e7eeb295-313f-4432-bc6e-81d43d282a85",
   "metadata": {},
   "source": [
    "In PyTorch all the tensor are stored on CPU by default. \n",
    "\n",
    "However, what we can do is move the specific tensor we want on the GPU and utilize the accelerated computing that CUDA provides to us.\n",
    "\n",
    "To do that we use tensor.to(specific_device):"
   ]
  },
  {
   "cell_type": "code",
   "execution_count": 105,
   "id": "4abfa4ec-f028-4453-b574-33ac1a45ccff",
   "metadata": {},
   "outputs": [
    {
     "name": "stdout",
     "output_type": "stream",
     "text": [
      "tensor([[0.8598, 0.6049, 0.6071],\n",
      "        [0.0232, 0.1727, 0.7790]])\n",
      "tensor([[0.2614, 0.8924, 0.4112, 0.8370, 0.6593],\n",
      "        [0.0612, 0.7187, 0.0878, 0.7994, 0.3717],\n",
      "        [0.7681, 0.5410, 0.4325, 0.5168, 0.1549],\n",
      "        [0.1903, 0.4956, 0.7716, 0.2225, 0.7799],\n",
      "        [0.5253, 0.3374, 0.8353, 0.9044, 0.7633]], device='cuda:0')\n"
     ]
    }
   ],
   "source": [
    "device = torch.device('cuda' if torch.cuda.is_available() else 'cpu')\n",
    "tensor_on_cpu = torch.rand(2,3)\n",
    "print(tensor_on_cpu)\n",
    "\n",
    "tensor = torch.rand(5,5)\n",
    "print(tensor.to(device))"
   ]
  },
  {
   "cell_type": "markdown",
   "id": "fca733a4-2170-403e-ab70-bc0760dc096c",
   "metadata": {},
   "source": [
    "To directly create them on the desired device we can use:"
   ]
  },
  {
   "cell_type": "code",
   "execution_count": 106,
   "id": "9dfc643c-f7a3-45e2-ac76-b4b6ac1742b6",
   "metadata": {},
   "outputs": [
    {
     "data": {
      "text/plain": [
       "tensor([[0.5251, 0.8401, 0.6055, 0.3960, 0.2198],\n",
       "        [0.9747, 0.4732, 0.7296, 0.1378, 0.1920],\n",
       "        [0.3938, 0.8352, 0.2934, 0.0880, 0.8944],\n",
       "        [0.1644, 0.1350, 0.6425, 0.9477, 0.4038],\n",
       "        [0.2498, 0.5694, 0.2893, 0.2022, 0.5288]], device='cuda:0')"
      ]
     },
     "execution_count": 106,
     "metadata": {},
     "output_type": "execute_result"
    }
   ],
   "source": [
    "torch.rand(5,5, device=device)"
   ]
  }
 ],
 "metadata": {
  "kernelspec": {
   "display_name": "Python 3 (ipykernel)",
   "language": "python",
   "name": "python3"
  },
  "language_info": {
   "codemirror_mode": {
    "name": "ipython",
    "version": 3
   },
   "file_extension": ".py",
   "mimetype": "text/x-python",
   "name": "python",
   "nbconvert_exporter": "python",
   "pygments_lexer": "ipython3",
   "version": "3.12.4"
  }
 },
 "nbformat": 4,
 "nbformat_minor": 5
}
