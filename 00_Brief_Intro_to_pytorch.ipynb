{
 "cells": [
  {
   "cell_type": "markdown",
   "id": "8d59c5ca-bf15-4d07-a4a9-e20caa85cd1c",
   "metadata": {},
   "source": [
    "# Gentle Introduction to PyTorch\n",
    "\n",
    "In this tutorial, we'll use PyTorch to build, visualize, and optimize a basic neural network. The network predicts whether a student will pass a test based on the number of hours studied. We'll generate training data using numpy to simulate study hours and outcomes. We will briefly show the capabilities of PyTorch by creating a simple neural network first without optimizing the parameters and then using PyTorch Automatic Differenciation (Autograd) and build a neural network that will predict whether a student will pass the test or no.\n",
    "\n",
    "# Dependencies\n",
    "\n",
    "* seaborn\n",
    "* matplotlib\n",
    "* torch"
   ]
  },
  {
   "cell_type": "markdown",
   "id": "3f4f4400-f380-4047-8a57-acebed4fc2be",
   "metadata": {},
   "source": [
    "**NOTE: Although the PyTorch module is called 'torch', we import it using the name 'torch' as a convention.**\n",
    "- `import torch`: Provides core functions such as setting a random seed (for reproducibility) and creating tensors.\n",
    "- `import torch.nn as nn`: Allows us to define and build neural networks.\n",
    "- `import torch.nn.functional as F`: Grants access to activation functions and loss functions.\n",
    "- `from torch.optim import SGD`: PyTorch includes multiple optimizers, and here we are utilizing stochastic gradient descent (SGD).\n",
    "\n",
    "- `import matplotlib.pyplot as plt`: Matplotlib is used for plotting graphs.\n",
    "- `import seaborn as sns`: Seaborn simplifies the process of creating visually appealing graphs."
   ]
  },
  {
   "cell_type": "code",
   "execution_count": 1,
   "id": "2b7ede64-a4c4-4452-b3c3-4554252ea00c",
   "metadata": {},
   "outputs": [],
   "source": [
    "import torch\n",
    "import torch.nn as nn\n",
    "import torch.nn.functional as F \n",
    "from torch.optim import SGD \n",
    "\n",
    "import matplotlib.pyplot as plt\n",
    "import seaborn as sns"
   ]
  },
  {
   "cell_type": "code",
   "execution_count": 2,
   "id": "254cc7b8-7a0e-4c02-98f8-44850407e283",
   "metadata": {},
   "outputs": [],
   "source": [
    "class BasicNN(nn.Module):\n",
    "\n",
    "    def __init__(self):\n",
    "        \n",
    "        super().__init__() # initialize an instance of the parent class, nn.Model.\n",
    "        "
   ]
  },
  {
   "cell_type": "code",
   "execution_count": null,
   "id": "f11ea6cf-99e0-4b94-9348-6bdfe933df5a",
   "metadata": {},
   "outputs": [],
   "source": []
  }
 ],
 "metadata": {
  "kernelspec": {
   "display_name": "Python 3 (ipykernel)",
   "language": "python",
   "name": "python3"
  },
  "language_info": {
   "codemirror_mode": {
    "name": "ipython",
    "version": 3
   },
   "file_extension": ".py",
   "mimetype": "text/x-python",
   "name": "python",
   "nbconvert_exporter": "python",
   "pygments_lexer": "ipython3",
   "version": "3.10.14"
  }
 },
 "nbformat": 4,
 "nbformat_minor": 5
}
